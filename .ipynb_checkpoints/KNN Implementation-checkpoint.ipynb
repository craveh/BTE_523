{
 "cells": [
  {
   "cell_type": "markdown",
   "id": "dbb20226",
   "metadata": {},
   "source": [
    "### K Nearest Neighbors Implementation for Iris Classification\n",
    "\n",
    "3 types of flowers, and four measures for each flower recorded (length, width, petal, sepal)\n"
   ]
  },
  {
   "cell_type": "code",
   "execution_count": null,
   "id": "cfa09a52",
   "metadata": {},
   "outputs": [],
   "source": []
  }
 ],
 "metadata": {
  "kernelspec": {
   "display_name": "Python 3 (ipykernel)",
   "language": "python",
   "name": "python3"
  },
  "language_info": {
   "codemirror_mode": {
    "name": "ipython",
    "version": 3
   },
   "file_extension": ".py",
   "mimetype": "text/x-python",
   "name": "python",
   "nbconvert_exporter": "python",
   "pygments_lexer": "ipython3",
   "version": "3.8.5"
  }
 },
 "nbformat": 4,
 "nbformat_minor": 5
}
